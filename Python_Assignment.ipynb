{
  "nbformat": 4,
  "nbformat_minor": 0,
  "metadata": {
    "colab": {
      "name": "Python Assignment",
      "provenance": [],
      "include_colab_link": true
    },
    "kernelspec": {
      "name": "python3",
      "display_name": "Python 3"
    }
  },
  "cells": [
    {
      "cell_type": "markdown",
      "metadata": {
        "id": "view-in-github",
        "colab_type": "text"
      },
      "source": [
        "<a href=\"https://colab.research.google.com/github/vamshikrishna124/Coursera_test/blob/master/Python_Assignment.ipynb\" target=\"_parent\"><img src=\"https://colab.research.google.com/assets/colab-badge.svg\" alt=\"Open In Colab\"/></a>"
      ]
    },
    {
      "cell_type": "markdown",
      "metadata": {
        "id": "q1js6MEmxdx0"
      },
      "source": [
        "*Q1.  Given a list of lists, write a Python program to count the number of lists contained within the list of lists.*"
      ]
    },
    {
      "cell_type": "markdown",
      "metadata": {
        "id": "5ja_h_ecxjcW"
      },
      "source": [
        "Examples:"
      ]
    },
    {
      "cell_type": "markdown",
      "metadata": {
        "id": "CRWgfjN_xmKo"
      },
      "source": [
        "Input :  [[1, 2, 3], [4, 5], [6, 7, 8, 9]]"
      ]
    },
    {
      "cell_type": "markdown",
      "metadata": {
        "id": "B7zi0meFxpAy"
      },
      "source": [
        "Output : 3"
      ]
    },
    {
      "cell_type": "code",
      "metadata": {
        "id": "EFc64gQ_woSn",
        "outputId": "1e0153bd-0ee3-481e-f854-163890dd6e5f",
        "colab": {
          "base_uri": "https://localhost:8080/"
        }
      },
      "source": [
        "#solution\r\n",
        "list = [[1,2,3],[4,5],[6,7,8,9]]\r\n",
        "len(list)\r\n",
        "\r\n"
      ],
      "execution_count": 2,
      "outputs": [
        {
          "output_type": "execute_result",
          "data": {
            "text/plain": [
              "3"
            ]
          },
          "metadata": {
            "tags": []
          },
          "execution_count": 2
        }
      ]
    },
    {
      "cell_type": "markdown",
      "metadata": {
        "id": "OqBMyTt5xxey"
      },
      "source": [
        "*Q2.  Given a list of strings, write a Python program to convert each element of the given list into a sublist. Thus, converting the whole list into a list of lists.*"
      ]
    },
    {
      "cell_type": "markdown",
      "metadata": {
        "id": "zYP7UGSsx6aB"
      },
      "source": [
        "Examples:"
      ]
    },
    {
      "cell_type": "markdown",
      "metadata": {
        "id": "0kfWDgfFx8xB"
      },
      "source": [
        "Input : ['alice', 'bob', 'cara']"
      ]
    },
    {
      "cell_type": "markdown",
      "metadata": {
        "id": "ehSqEz1Px-2Q"
      },
      "source": [
        "Output : [['alice'], ['bob'], ['cara']]"
      ]
    },
    {
      "cell_type": "code",
      "metadata": {
        "id": "5JMDxoK9yBYg",
        "outputId": "cd140fc9-9f66-49c0-c84d-9aea6691e9fb",
        "colab": {
          "base_uri": "https://localhost:8080/"
        }
      },
      "source": [
        "#solution\r\n",
        "input = ['alice','bob','cara']\r\n",
        "print(\"list is:\",input)\r\n",
        "newlist =[]\r\n",
        "for x in input:\r\n",
        "  x = x.split( ',' )\r\n",
        "  newlist.append(x)\r\n",
        "\r\n",
        "print(\"the new list is:\", newlist)\r\n"
      ],
      "execution_count": 8,
      "outputs": [
        {
          "output_type": "stream",
          "text": [
            "list is: ['alice', 'bob', 'cara']\n",
            "the new list is: [['alice'], ['bob'], ['cara']]\n"
          ],
          "name": "stdout"
        }
      ]
    }
  ]
}